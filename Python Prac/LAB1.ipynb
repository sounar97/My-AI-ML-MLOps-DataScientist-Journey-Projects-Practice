{
  "nbformat": 4,
  "nbformat_minor": 0,
  "metadata": {
    "colab": {
      "provenance": []
    },
    "kernelspec": {
      "name": "python3",
      "display_name": "Python 3"
    },
    "language_info": {
      "name": "python"
    }
  },
  "cells": [
    {
      "cell_type": "code",
      "execution_count": null,
      "metadata": {
        "colab": {
          "base_uri": "https://localhost:8080/"
        },
        "id": "Nmeb1sZQZ_XQ",
        "outputId": "d0d8baa3-6541-4c46-807f-328d71b1efc9"
      },
      "outputs": [
        {
          "output_type": "execute_result",
          "data": {
            "text/plain": [
              "str"
            ]
          },
          "metadata": {},
          "execution_count": 1
        }
      ],
      "source": [
        "type('hello world')"
      ]
    },
    {
      "cell_type": "code",
      "source": [
        "type(123)"
      ],
      "metadata": {
        "colab": {
          "base_uri": "https://localhost:8080/"
        },
        "id": "1bmoy68VaKPb",
        "outputId": "317f271a-eaef-4ee9-e0cc-efc7272996d8"
      },
      "execution_count": null,
      "outputs": [
        {
          "output_type": "execute_result",
          "data": {
            "text/plain": [
              "int"
            ]
          },
          "metadata": {},
          "execution_count": 2
        }
      ]
    },
    {
      "cell_type": "code",
      "source": [
        "type(23.4)"
      ],
      "metadata": {
        "colab": {
          "base_uri": "https://localhost:8080/"
        },
        "id": "xhi462f8aRJ6",
        "outputId": "dc1b297c-4618-48bf-ae41-e6991271407a"
      },
      "execution_count": null,
      "outputs": [
        {
          "output_type": "execute_result",
          "data": {
            "text/plain": [
              "float"
            ]
          },
          "metadata": {},
          "execution_count": 3
        }
      ]
    },
    {
      "cell_type": "code",
      "source": [
        "type(True)"
      ],
      "metadata": {
        "colab": {
          "base_uri": "https://localhost:8080/"
        },
        "id": "5jZcMiJOaVkG",
        "outputId": "28ba915f-fb34-4fff-f462-21a7b0d16c40"
      },
      "execution_count": null,
      "outputs": [
        {
          "output_type": "execute_result",
          "data": {
            "text/plain": [
              "bool"
            ]
          },
          "metadata": {},
          "execution_count": 4
        }
      ]
    },
    {
      "cell_type": "code",
      "source": [
        "type('a')"
      ],
      "metadata": {
        "colab": {
          "base_uri": "https://localhost:8080/"
        },
        "id": "3wb9nm2pa9wS",
        "outputId": "f06158ba-1da4-4e03-b3f4-f2ff1c3c5b71"
      },
      "execution_count": null,
      "outputs": [
        {
          "output_type": "execute_result",
          "data": {
            "text/plain": [
              "str"
            ]
          },
          "metadata": {},
          "execution_count": 5
        }
      ]
    },
    {
      "cell_type": "code",
      "source": [
        "a='123141434141'\n",
        "b=len(a)\n",
        "print(b)"
      ],
      "metadata": {
        "colab": {
          "base_uri": "https://localhost:8080/"
        },
        "id": "ITSnBKisdc4r",
        "outputId": "bfe06cb4-7566-4d91-d5e1-3d4380cb4f7a"
      },
      "execution_count": null,
      "outputs": [
        {
          "output_type": "stream",
          "name": "stdout",
          "text": [
            "12\n"
          ]
        }
      ]
    },
    {
      "cell_type": "code",
      "source": [
        "Str1=input('Enter String1: ')\n",
        "Str2=input('Enter String2: ')\n",
        "print('String1= ',Str1)\n",
        "print('String2= ',Str2)"
      ],
      "metadata": {
        "colab": {
          "base_uri": "https://localhost:8080/"
        },
        "id": "hztrYfC3eNjF",
        "outputId": "398ca123-48db-46d7-b1d3-37b523f8f166"
      },
      "execution_count": null,
      "outputs": [
        {
          "output_type": "stream",
          "name": "stdout",
          "text": [
            "Enter String1: hello\n",
            "Enter String2: world\n",
            "String1=  hello\n",
            "String2=  world\n"
          ]
        }
      ]
    },
    {
      "cell_type": "code",
      "source": [
        "print(Str1+Str2)"
      ],
      "metadata": {
        "colab": {
          "base_uri": "https://localhost:8080/"
        },
        "id": "5zCM_9QAeC4L",
        "outputId": "e90ee5d6-8311-4267-d5c2-2d1f0658f13c"
      },
      "execution_count": null,
      "outputs": [
        {
          "output_type": "stream",
          "name": "stdout",
          "text": [
            "helloworld\n"
          ]
        }
      ]
    },
    {
      "cell_type": "markdown",
      "source": [
        "Write a program to calculate the area of a rectangle"
      ],
      "metadata": {
        "id": "cJiolP-6fbfT"
      }
    },
    {
      "cell_type": "code",
      "source": [
        "length=10\n",
        "breadth=20\n",
        "area=length*breadth\n",
        "print('Area of Rectangle is = ',area)\n",
        "area1=0.5*length*breadth\n",
        "print('Area of Triangle is = ',area1)"
      ],
      "metadata": {
        "colab": {
          "base_uri": "https://localhost:8080/"
        },
        "id": "-crPyqoQficT",
        "outputId": "2beaddd3-c9f1-4b63-8822-2980120a7312"
      },
      "execution_count": null,
      "outputs": [
        {
          "output_type": "stream",
          "name": "stdout",
          "text": [
            "Area of Rectangle is =  200\n",
            "Area of Triangle is =  100.0\n"
          ]
        }
      ]
    },
    {
      "cell_type": "code",
      "source": [
        "print('Enter integer number: ')\n",
        "num1=int(input())\n",
        "print(\"Enter floating type number: \")\n",
        "num2=float(input())\n",
        "print('Number1 is: ',num1)\n",
        "print('Number2 is: ',num2)\n",
        "sum=num1+num2\n",
        "print('Sum = ',sum)\n"
      ],
      "metadata": {
        "colab": {
          "base_uri": "https://localhost:8080/"
        },
        "id": "ERucizkjhAlk",
        "outputId": "6b58ce10-03bf-437c-d3fc-6b561cb195e8"
      },
      "execution_count": null,
      "outputs": [
        {
          "output_type": "stream",
          "name": "stdout",
          "text": [
            "Enter integer number: \n",
            "10\n",
            "Enter floating type number: \n",
            "12\n",
            "Number1 is:  10\n",
            "Number2 is:  12.0\n",
            "Sum =  22.0\n"
          ]
        }
      ]
    },
    {
      "cell_type": "code",
      "source": [
        "print(\"Age :\",age)"
      ],
      "metadata": {
        "id": "jEXzCmAtny_v"
      },
      "execution_count": null,
      "outputs": []
    },
    {
      "cell_type": "markdown",
      "source": [
        "Write a program to display a message hello,presidency university goodbye.Each of the 3 messages to display on each line"
      ],
      "metadata": {
        "id": "tiSk7Pe4j6YU"
      }
    },
    {
      "cell_type": "code",
      "source": [
        "print('Hello Presidency University')\n",
        "print('Goodbye')"
      ],
      "metadata": {
        "colab": {
          "base_uri": "https://localhost:8080/"
        },
        "id": "mzsy3XWJkLWz",
        "outputId": "0a186631-001c-47db-dbe9-582c8cbcfe93"
      },
      "execution_count": null,
      "outputs": [
        {
          "output_type": "stream",
          "name": "stdout",
          "text": [
            "Hello Presidency University\n",
            "Goodbye\n"
          ]
        }
      ]
    },
    {
      "cell_type": "code",
      "source": [
        "type(True)\n"
      ],
      "metadata": {
        "colab": {
          "base_uri": "https://localhost:8080/"
        },
        "id": "BS5nr2lek1RD",
        "outputId": "32f058ff-0125-4c52-809c-29b0dcae9a85"
      },
      "execution_count": null,
      "outputs": [
        {
          "output_type": "execute_result",
          "data": {
            "text/plain": [
              "bool"
            ]
          },
          "metadata": {},
          "execution_count": 26
        }
      ]
    },
    {
      "cell_type": "code",
      "source": [
        "type(str(12.5))"
      ],
      "metadata": {
        "colab": {
          "base_uri": "https://localhost:8080/"
        },
        "id": "Mcn8S02klC7k",
        "outputId": "963b42d1-f486-4c56-df23-4c5c922236be"
      },
      "execution_count": null,
      "outputs": [
        {
          "output_type": "execute_result",
          "data": {
            "text/plain": [
              "str"
            ]
          },
          "metadata": {},
          "execution_count": 27
        }
      ]
    },
    {
      "cell_type": "markdown",
      "source": [
        "Write a program to display details entered my user,i.e.,name,age,gender and height"
      ],
      "metadata": {
        "id": "FDoMCiXolj90"
      }
    },
    {
      "cell_type": "code",
      "source": [
        "name=(input(\"Enter name: \"))\n",
        "age=eval(input(\"Enter age: \"))\n",
        "gender=(input(\"Enter gender: \"))\n",
        "height=(input(\"Enter height: \"))\n",
        "\n",
        "print(\"Name :\",name)\n",
        "print(\"Age :\",age)\n",
        "print(\"Gender:\",gender)\n",
        "print(\"Height:\",height)\n",
        "type(age)"
      ],
      "metadata": {
        "colab": {
          "base_uri": "https://localhost:8080/"
        },
        "id": "JFXveCz4lwuK",
        "outputId": "0810331d-9423-452a-ba2a-7c30ac51b782"
      },
      "execution_count": null,
      "outputs": [
        {
          "output_type": "stream",
          "name": "stdout",
          "text": [
            "Enter name: soug\n",
            "Enter age: 12\n",
            "Enter gender: m\n",
            "Enter height: 13\n",
            "Name : soug\n",
            "Age : 12\n",
            "Gender: m\n",
            "Height: 13\n"
          ]
        },
        {
          "output_type": "execute_result",
          "data": {
            "text/plain": [
              "int"
            ]
          },
          "metadata": {},
          "execution_count": 35
        }
      ]
    },
    {
      "cell_type": "markdown",
      "source": [
        "Write a program to swap two variables\n"
      ],
      "metadata": {
        "id": "Z5GAV8mpqqme"
      }
    },
    {
      "cell_type": "code",
      "source": [
        "a=10\n",
        "b=20\n",
        "temp=a\n",
        "a=b\n",
        "b=temp\n",
        "print(\"a:\",a)\n",
        "print(\"b:\",b)"
      ],
      "metadata": {
        "colab": {
          "base_uri": "https://localhost:8080/"
        },
        "id": "HUDkyAWnn2K8",
        "outputId": "ee07ea91-07de-4d6d-baa0-2d6b277d1487"
      },
      "execution_count": null,
      "outputs": [
        {
          "output_type": "stream",
          "name": "stdout",
          "text": [
            "a: 20\n",
            "b: 10\n"
          ]
        }
      ]
    },
    {
      "cell_type": "markdown",
      "source": [
        "Write a functiopn tpo find a squareroot of a number"
      ],
      "metadata": {
        "id": "m15tf50zr6gd"
      }
    },
    {
      "cell_type": "code",
      "source": [
        "import math\n",
        "a=eval(input('Enter the number'))\n",
        "n=math.sqrt(a)\n",
        "print(n)\n"
      ],
      "metadata": {
        "colab": {
          "base_uri": "https://localhost:8080/"
        },
        "id": "1u6O3woKr-lL",
        "outputId": "eef3646e-d19f-460d-e210-3ec094270247"
      },
      "execution_count": null,
      "outputs": [
        {
          "output_type": "stream",
          "name": "stdout",
          "text": [
            "Enter the number9\n",
            "3.0\n"
          ]
        }
      ]
    }
  ]
}